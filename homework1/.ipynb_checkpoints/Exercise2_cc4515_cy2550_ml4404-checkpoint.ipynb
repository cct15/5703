{
 "cells": [
  {
   "cell_type": "code",
   "execution_count": 1,
   "metadata": {},
   "outputs": [],
   "source": [
    "import numpy as np\n",
    "from scipy.misc import derivative\n",
    "from scipy.stats import norm\n",
    "from sympy import diff, symbols"
   ]
  },
  {
   "cell_type": "markdown",
   "metadata": {},
   "source": [
    "**Exercise 2**\n",
    "\n",
    "Chutian Chen cc4515; Congcheng Yan cy2550; Mingrui Liu ml4404"
   ]
  },
  {
   "cell_type": "markdown",
   "metadata": {},
   "source": [
    "**(1)**"
   ]
  },
  {
   "cell_type": "markdown",
   "metadata": {},
   "source": [
    "$E(\\bar X^2) = E(\\frac{\\sum_{i=1}^nX_i^2+2\\sum_{i=1}^{n-1}\\sum_{j=i+1}^{n}X_iX_j}{n^2})$ \n",
    "\n",
    "$=\\frac{1}{n}EX^2+(1-\\frac{1}{n})(EX)^2$\n",
    "\n",
    "$EX^2=VarX+(EX)^2=\\lambda+\\lambda^2$ \n",
    "\n",
    "$EX=\\lambda$ \n",
    "\n",
    "So $E(\\bar X^2)=\\lambda^2+\\frac{\\lambda}{n}$"
   ]
  },
  {
   "cell_type": "markdown",
   "metadata": {},
   "source": [
    "**(2)**"
   ]
  },
  {
   "cell_type": "markdown",
   "metadata": {},
   "source": [
    "$Es^2=\\frac{1}{n-1}E(\\sum_{i=1}^nX_i^2-n\\bar X^2)$ \n",
    "\n",
    "$=\\frac{1}{n-1}(n\\lambda+n\\lambda^2-n\\lambda^2-\\lambda)=\\lambda$"
   ]
  },
  {
   "cell_type": "markdown",
   "metadata": {},
   "source": [
    "**(3)**"
   ]
  },
  {
   "cell_type": "markdown",
   "metadata": {},
   "source": [
    "$EY_i=EX_i^2-2\\lambda EX_i+\\lambda^2-EX_i$ \n",
    "\n",
    "$=\\lambda^2+\\lambda-2\\lambda^2+\\lambda^2-\\lambda=0$\n",
    "\n",
    "$VarY_i=EY_i^2-(EY_i)^2=EY_i^2=E(X_i^2-(2\\lambda+1)X_i+\\lambda^2)^2$ \n",
    "\n",
    "Using moment generating function, we can get \n",
    "\n",
    "$EX=\\lambda$ \n",
    "\n",
    "$EX^2=\\lambda^2+\\lambda$ \n",
    "\n",
    "$EX^3=\\lambda^3+3\\lambda^2+\\lambda$\n",
    "\n",
    "$EX^4=\\lambda^4+6\\lambda^3+7\\lambda^2+\\lambda$\n",
    "\n",
    "So $VarY_i=2\\lambda^2$"
   ]
  },
  {
   "cell_type": "markdown",
   "metadata": {},
   "source": [
    "**(4)**"
   ]
  },
  {
   "cell_type": "markdown",
   "metadata": {},
   "source": [
    "$s^2-\\bar X=\\frac{1}{n-1}(\\sum_{i=1}^nX_i^2-n\\bar X^2-(n-1)\\bar X)$ \n",
    "\n",
    "$Y_i=(X_i-\\bar X)^2+(\\bar X-\\lambda)^2+2(X_i-\\bar X)(\\bar X-\\lambda)-X_i$ \n",
    "\n",
    "$\\sum_{i=1}^nY_i=\\sum_{i=1}^n(X_i-\\bar X)^2+n(\\bar X-\\lambda)^2-\\sum_{i=1}^nX_i$\n",
    "\n",
    "$=(n-1)s^2+n(\\bar X-\\lambda)^2-n\\bar X$ \n",
    "\n",
    "So $s^2-\\bar X=\\frac{\\sum_{i=1}^nY_i-n(\\bar X-\\lambda)^2+\\bar X}{n-1}$"
   ]
  },
  {
   "cell_type": "markdown",
   "metadata": {},
   "source": [
    "**(5)**"
   ]
  },
  {
   "cell_type": "markdown",
   "metadata": {},
   "source": [
    "By CLT, $\\sqrt{n}\\bar Y\\Rightarrow_{D}N(0,2\\lambda^2)$\n",
    "\n",
    "$\\frac{n}{n-1}\\Rightarrow_{P}1$ \n",
    "\n",
    "By LLN, $(\\bar X-\\lambda\\Rightarrow_{P}0$ \n",
    "\n",
    "By CLT, $\\sqrt{n}(\\bar X-\\lambda)\\Rightarrow_{D}N(0,\\lambda)$ \n",
    "\n",
    "Then Slutsky's Theorem tells that \n",
    "\n",
    "$\\sqrt{n}(\\bar X-\\lambda)(\\bar X-\\lambda)=\\sqrt{n}(\\bar X-\\lambda)^2\\Rightarrow_{D}0*N(0,\\lambda)=0$ \n",
    "\n",
    "$\\frac{\\bar X}{\\sqrt{n}}\\Rightarrow_{P}0$ \n",
    "\n",
    "So $(\\sqrt{n}\\bar Y-\\sqrt{n}(\\bar X-\\lambda)^2+\\frac{\\bar X}{\\sqrt{n}})\\Rightarrow_{D}N(0,2\\lambda^2)$ \n",
    "\n",
    "Because $\\frac{n}{n-1}\\Rightarrow_{P}1$ \n",
    "\n",
    "$\\frac{n}{n-1}(\\sqrt{n}\\bar Y-\\sqrt{n}(\\bar X-\\lambda)^2+\\frac{\\bar X}{\\sqrt{n}})\\Rightarrow_{D}N(0,2\\lambda^2)$\n",
    "\n",
    "So $\\sqrt{n}(s^2-\\bar X)\\Rightarrow_{D}N(0,2\\lambda^2)$\n",
    "\n",
    "$\\bar X\\Rightarrow_{P}\\lambda$ \n",
    "\n",
    "So $\\sqrt{\\frac{n}{2}}\\frac{(s^2-\\bar X)}{\\bar X}\\Rightarrow_{D}N(0,1)$"
   ]
  },
  {
   "cell_type": "markdown",
   "metadata": {},
   "source": [
    "**(6)**"
   ]
  },
  {
   "cell_type": "markdown",
   "metadata": {},
   "source": [
    "When $E(\\bar X)=E(s^2)$, $P(|\\sqrt{\\frac{n}{2}}\\frac{(s^2-\\bar X)-E(s^2-\\bar X)}{\\bar X}|\\leq Z_{1-\\alpha/2})=\\alpha$ \n",
    "\n",
    "So if $|\\sqrt{\\frac{n}{2}}\\frac{(s^2-\\bar X)}{\\bar X}|\\geq Z_{1-\\alpha/2}$, we can reject H0."
   ]
  },
  {
   "cell_type": "markdown",
   "metadata": {},
   "source": [
    "**(7)**"
   ]
  },
  {
   "cell_type": "code",
   "execution_count": 9,
   "metadata": {},
   "outputs": [],
   "source": [
    "model_1 = np.random.poisson(5,500*50)\n",
    "m1,v1 = np.mean(model_1), np.var(model_1)"
   ]
  },
  {
   "cell_type": "code",
   "execution_count": 10,
   "metadata": {},
   "outputs": [],
   "source": [
    "def model2_gen(n):\n",
    "    a = []\n",
    "    for i in range(n):\n",
    "        a = a + list(np.random.poisson(np.random.gamma(2.5,2,1),50))\n",
    "    return np.array(a)"
   ]
  },
  {
   "cell_type": "code",
   "execution_count": 11,
   "metadata": {},
   "outputs": [],
   "source": [
    "model_2 = model2_gen(500)\n",
    "m2,v2 = np.mean(model_2), np.var(model_2)"
   ]
  },
  {
   "cell_type": "code",
   "execution_count": 12,
   "metadata": {},
   "outputs": [
    {
     "name": "stdout",
     "output_type": "stream",
     "text": [
      "Model A:  0.023104027613830565\n",
      "Model B:  31.934773221864305\n"
     ]
    }
   ],
   "source": [
    "print(\"Model A: \", np.sqrt(500/2)*(v1-m1)/m1)\n",
    "print(\"Model B: \",np.sqrt(500/2)*(v2-m2)/m2)"
   ]
  },
  {
   "cell_type": "code",
   "execution_count": 57,
   "metadata": {},
   "outputs": [
    {
     "data": {
      "text/plain": [
       "1.959963984540054"
      ]
     },
     "execution_count": 57,
     "metadata": {},
     "output_type": "execute_result"
    }
   ],
   "source": [
    "norm.ppf(0.975)"
   ]
  },
  {
   "cell_type": "markdown",
   "metadata": {},
   "source": [
    "As we can see, model A $0.023<1.96$, model B $31.93>1.96$.\n",
    "\n",
    "So for model A we can accept H0 at significant level 0.05. \n",
    "\n",
    "For model B we should reject H0 at significant level 0.05."
   ]
  },
  {
   "cell_type": "markdown",
   "metadata": {},
   "source": [
    "**(8)**"
   ]
  },
  {
   "cell_type": "code",
   "execution_count": 58,
   "metadata": {},
   "outputs": [],
   "source": [
    "f = [1,4,15,31,39,55,54,49,47,31,16,9,8,4,3]\n",
    "data = []\n",
    "for i,fre in enumerate(f):\n",
    "    for j in range(fre):\n",
    "        data.append(i)\n",
    "data = np.array(data)"
   ]
  },
  {
   "cell_type": "code",
   "execution_count": 59,
   "metadata": {},
   "outputs": [
    {
     "data": {
      "text/plain": [
       "0.9390395410831514"
      ]
     },
     "execution_count": 59,
     "metadata": {},
     "output_type": "execute_result"
    }
   ],
   "source": [
    "m3,v3 = np.mean(data), np.var(data)\n",
    "np.sqrt(len(data)/2)*(v3-m3)/m3"
   ]
  },
  {
   "cell_type": "markdown",
   "metadata": {},
   "source": [
    "0.93<1.96, so we can accept H0 at significant level 0.05.\n",
    "\n",
    "The test doesn't detect any overdispersions."
   ]
  },
  {
   "cell_type": "code",
   "execution_count": 60,
   "metadata": {},
   "outputs": [],
   "source": [
    "#e = np.exp(1)\n",
    "#t = symbols('x', real=True)\n",
    "#l = symbols('l', real = True)\n",
    "#diff(e**(l*(e**t-1)), t, 4).subs(t,0)"
   ]
  }
 ],
 "metadata": {
  "kernelspec": {
   "display_name": "Python 3",
   "language": "python",
   "name": "python3"
  },
  "language_info": {
   "codemirror_mode": {
    "name": "ipython",
    "version": 3
   },
   "file_extension": ".py",
   "mimetype": "text/x-python",
   "name": "python",
   "nbconvert_exporter": "python",
   "pygments_lexer": "ipython3",
   "version": "3.7.4"
  }
 },
 "nbformat": 4,
 "nbformat_minor": 2
}
